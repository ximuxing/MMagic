!pip install -U openmim
!mim install mmengine
!mim install mmcv
!git clone https://github.com/open-mmlab/mmagic.git
%cd mmagic
!mim install -e .
