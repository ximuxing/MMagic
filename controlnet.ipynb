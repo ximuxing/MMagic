!pip install -U openmim
!mim install mmengine
!mim install mmcv
!git clone https://github.com/open-mmlab/mmagic.git
%cd mmagic
!mim install -e .


!pip install accelerate
!pip install xformers




import cv2
import numpy as np
import mmcv
from mmengine import Config
from PIL import Image

from mmagic.registry import MODELS
from mmagic.utils import register_all_modules

register_all_modules()

cfg = Config.fromfile('configs/controlnet/controlnet-canny.py')
controlnet = MODELS.build(cfg.model).cuda()



from google.colab import files

uploaded = files.upload()
prompt = 'Room with purple walls and with modern concise style.'
#control_url = 'https://th.bing.com/th/id/R.1a0a292a2e08152098dd4ff642e90c30?rik=uucRx42W54DssA&riu=http%3a%2f%2fimg95.699pic.com%2fphoto%2f50133%2f2718.jpg_wh860.jpg&ehk=797V30Z7S71h8VC0d95tXoonc1SkQm7hzJK0GLHXtFM%3d&risl=&pid=ImgRaw&r=0'
control_url = 'mao.jpg'
control_img = mmcv.imread(control_url)
control = cv2.Canny(control_img, 100, 200)
control = control[:, :, None]
control = np.concatenate([control] * 3, axis=2)
control = Image.fromarray(control)

output_dict = controlnet.infer(prompt, control=control)
samples = output_dict['samples']
for idx, sample in enumerate(samples):
    sample.save(f'sample_{idx}.png')
controls = output_dict['controls']
for idx, control in enumerate(controls):
    control.save(f'control_{idx}.png')




